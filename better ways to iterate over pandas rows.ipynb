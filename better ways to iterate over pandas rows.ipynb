{
 "cells": [
  {
   "cell_type": "code",
   "execution_count": 7,
   "id": "7b7fa614",
   "metadata": {},
   "outputs": [
    {
     "data": {
      "text/html": [
       "<div>\n",
       "<style scoped>\n",
       "    .dataframe tbody tr th:only-of-type {\n",
       "        vertical-align: middle;\n",
       "    }\n",
       "\n",
       "    .dataframe tbody tr th {\n",
       "        vertical-align: top;\n",
       "    }\n",
       "\n",
       "    .dataframe thead th {\n",
       "        text-align: right;\n",
       "    }\n",
       "</style>\n",
       "<table border=\"1\" class=\"dataframe\">\n",
       "  <thead>\n",
       "    <tr style=\"text-align: right;\">\n",
       "      <th></th>\n",
       "      <th>Name</th>\n",
       "      <th>Email</th>\n",
       "      <th>IBAN</th>\n",
       "    </tr>\n",
       "  </thead>\n",
       "  <tbody>\n",
       "    <tr>\n",
       "      <th>0</th>\n",
       "      <td>Danny</td>\n",
       "      <td>danny@gmail.com</td>\n",
       "      <td>NLAMRO123456789</td>\n",
       "    </tr>\n",
       "    <tr>\n",
       "      <th>1</th>\n",
       "      <td>Damny</td>\n",
       "      <td>danny@gmail.com</td>\n",
       "      <td>NLINGB126656723</td>\n",
       "    </tr>\n",
       "    <tr>\n",
       "      <th>2</th>\n",
       "      <td>Monny</td>\n",
       "      <td>monny@gmail.com</td>\n",
       "      <td>BGFFEO128856754</td>\n",
       "    </tr>\n",
       "    <tr>\n",
       "      <th>3</th>\n",
       "      <td>Quony</td>\n",
       "      <td>quony@gmail.com</td>\n",
       "      <td>NLAMRO123896763</td>\n",
       "    </tr>\n",
       "    <tr>\n",
       "      <th>4</th>\n",
       "      <td>Dimny</td>\n",
       "      <td>danny@gmail.com</td>\n",
       "      <td>DUDMRO567456722</td>\n",
       "    </tr>\n",
       "  </tbody>\n",
       "</table>\n",
       "</div>"
      ],
      "text/plain": [
       "    Name            Email             IBAN\n",
       "0  Danny  danny@gmail.com  NLAMRO123456789\n",
       "1  Damny  danny@gmail.com  NLINGB126656723\n",
       "2  Monny  monny@gmail.com  BGFFEO128856754\n",
       "3  Quony  quony@gmail.com  NLAMRO123896763\n",
       "4  Dimny  danny@gmail.com  DUDMRO567456722"
      ]
     },
     "execution_count": 7,
     "metadata": {},
     "output_type": "execute_result"
    }
   ],
   "source": [
    "import pandas as pd\n",
    "import numpy as np\n",
    "data={'Name':['Danny','Damny','Monny','Quony','Dimny','Danny'],\n",
    "      'Email':['danny@gmail.com','danny@gmail.com','monny@gmail.com','quony@gmail.com','danny@gmail.com','danny@gmail.com'],\n",
    "     'IBAN':['NLAMRO123456789','NLINGB126656723','BGFFEO128856754','NLAMRO123896763','DUDMRO567456722','NLRABO123456712']}\n",
    "#creation of dataframe\n",
    "\n",
    "df=pd.DataFrame(data)\n",
    "\n",
    "df.head()"
   ]
  },
  {
   "cell_type": "markdown",
   "id": "21765542",
   "metadata": {},
   "source": [
    "# How to find repeated column values\n"
   ]
  },
  {
   "cell_type": "markdown",
   "id": "73f05842",
   "metadata": {},
   "source": [
    "https://stackoverflow.com/questions/74186093/is-there-better-way-to-iterate-over-nested-loop-for-rows-30000"
   ]
  },
  {
   "cell_type": "code",
   "execution_count": 8,
   "id": "08d1d5c3",
   "metadata": {},
   "outputs": [],
   "source": [
    "df['email_repeated'] = np.where(df.duplicated(\"Email\", keep=False), \"ja\", '')"
   ]
  },
  {
   "cell_type": "markdown",
   "id": "b85f0f49",
   "metadata": {},
   "source": [
    "# How to set value in a column based on the cell value in another column"
   ]
  },
  {
   "cell_type": "markdown",
   "id": "4c836f2e",
   "metadata": {},
   "source": [
    "https://stackoverflow.com/questions/74204839/how-to-use-regex-as-an-alternative-to-nested-loop-with-re-search-in-pandas"
   ]
  },
  {
   "cell_type": "code",
   "execution_count": 9,
   "id": "204ecd17",
   "metadata": {},
   "outputs": [],
   "source": [
    "# to find rows, which contain non dutch bank numbers.\n",
    "df['No Dutch Bank']=''\n",
    "df.loc[df['IBAN'].str.find('NL') == -1, 'No Dutch Bank']='ja'"
   ]
  },
  {
   "cell_type": "markdown",
   "id": "4e3894d3",
   "metadata": {},
   "source": [
    "# How to compare a main dataframe with controle dataframe"
   ]
  },
  {
   "cell_type": "markdown",
   "id": "36df3083",
   "metadata": {},
   "source": [
    "https://stackoverflow.com/questions/74196699/is-there-better-way-to-compare-a-main-dataframe-with-controle-dataframe-for-rows"
   ]
  },
  {
   "cell_type": "code",
   "execution_count": 10,
   "id": "d4dd37c7",
   "metadata": {},
   "outputs": [
    {
     "data": {
      "text/html": [
       "<div>\n",
       "<style scoped>\n",
       "    .dataframe tbody tr th:only-of-type {\n",
       "        vertical-align: middle;\n",
       "    }\n",
       "\n",
       "    .dataframe tbody tr th {\n",
       "        vertical-align: top;\n",
       "    }\n",
       "\n",
       "    .dataframe thead th {\n",
       "        text-align: right;\n",
       "    }\n",
       "</style>\n",
       "<table border=\"1\" class=\"dataframe\">\n",
       "  <thead>\n",
       "    <tr style=\"text-align: right;\">\n",
       "      <th></th>\n",
       "      <th>Name</th>\n",
       "      <th>Email</th>\n",
       "      <th>IBAN</th>\n",
       "      <th>email_repeated</th>\n",
       "      <th>No Dutch Bank</th>\n",
       "      <th>email_found_in_control_list</th>\n",
       "    </tr>\n",
       "  </thead>\n",
       "  <tbody>\n",
       "    <tr>\n",
       "      <th>0</th>\n",
       "      <td>Danny</td>\n",
       "      <td>danny@gmail.com</td>\n",
       "      <td>NLAMRO123456789</td>\n",
       "      <td>ja</td>\n",
       "      <td></td>\n",
       "      <td>ja</td>\n",
       "    </tr>\n",
       "    <tr>\n",
       "      <th>1</th>\n",
       "      <td>Damny</td>\n",
       "      <td>danny@gmail.com</td>\n",
       "      <td>NLINGB126656723</td>\n",
       "      <td>ja</td>\n",
       "      <td></td>\n",
       "      <td>ja</td>\n",
       "    </tr>\n",
       "    <tr>\n",
       "      <th>2</th>\n",
       "      <td>Monny</td>\n",
       "      <td>monny@gmail.com</td>\n",
       "      <td>BGFFEO128856754</td>\n",
       "      <td></td>\n",
       "      <td>ja</td>\n",
       "      <td></td>\n",
       "    </tr>\n",
       "    <tr>\n",
       "      <th>3</th>\n",
       "      <td>Quony</td>\n",
       "      <td>quony@gmail.com</td>\n",
       "      <td>NLAMRO123896763</td>\n",
       "      <td></td>\n",
       "      <td></td>\n",
       "      <td></td>\n",
       "    </tr>\n",
       "    <tr>\n",
       "      <th>4</th>\n",
       "      <td>Dimny</td>\n",
       "      <td>danny@gmail.com</td>\n",
       "      <td>DUDMRO567456722</td>\n",
       "      <td>ja</td>\n",
       "      <td>ja</td>\n",
       "      <td>ja</td>\n",
       "    </tr>\n",
       "  </tbody>\n",
       "</table>\n",
       "</div>"
      ],
      "text/plain": [
       "    Name            Email             IBAN email_repeated No Dutch Bank  \\\n",
       "0  Danny  danny@gmail.com  NLAMRO123456789             ja                 \n",
       "1  Damny  danny@gmail.com  NLINGB126656723             ja                 \n",
       "2  Monny  monny@gmail.com  BGFFEO128856754                           ja   \n",
       "3  Quony  quony@gmail.com  NLAMRO123896763                                \n",
       "4  Dimny  danny@gmail.com  DUDMRO567456722             ja            ja   \n",
       "\n",
       "  email_found_in_control_list  \n",
       "0                          ja  \n",
       "1                          ja  \n",
       "2                              \n",
       "3                              \n",
       "4                          ja  "
      ]
     },
     "execution_count": 10,
     "metadata": {},
     "output_type": "execute_result"
    }
   ],
   "source": [
    "data1={'Name':['Danny','Monny','Quony'],\n",
    "      'Email':['danny@gmail.com','sonny@gmail.com','ponny@gmail.com']}\n",
    "df_controle=pd.DataFrame(data1)\n",
    "df[\"email_found_in_control_list\"] = list(map(lambda x: \"ja\" if x else \"\", np.in1d(df.Email, df_controle.Email)))\n",
    "df.head()"
   ]
  },
  {
   "cell_type": "markdown",
   "id": "4c5b8b06",
   "metadata": {},
   "source": [
    "# How to use duplicated, sort values, and pivot table to group the data w.r.t. cell value and keep the cell value that have occurred more than one time"
   ]
  },
  {
   "cell_type": "markdown",
   "id": "7862caf5",
   "metadata": {},
   "source": [
    "https://stackoverflow.com/questions/74208560/how-to-use-duplicated-sort-values-and-pivot-table-to-group-the-data-w-r-t-cel"
   ]
  },
  {
   "cell_type": "code",
   "execution_count": 11,
   "id": "6618aed7",
   "metadata": {},
   "outputs": [],
   "source": [
    "#filtering which columns needed in the final results\n",
    "df_filt=df[['Name',\"Email\", \"IBAN\"]]\n",
    "\n",
    "# count names\n",
    "df_name = df_filt.groupby('Name')['Email'].count()\n",
    "\n",
    "# get names with count > 1\n",
    "df_name = df_name[df_name > 1].reset_index()\n",
    "\n",
    "# merge filtered names back to original df to get filtered df\n",
    "df_gb = pd.merge(df_name['Name'], df_filt, on=['Name'], how='left')\n",
    "\n",
    "# sorting etc.\n",
    "df_gb = df_gb.sort_values(by='Name', ascending=False).reset_index(drop=True)"
   ]
  },
  {
   "cell_type": "code",
   "execution_count": 12,
   "id": "a96a5e00",
   "metadata": {},
   "outputs": [
    {
     "data": {
      "text/html": [
       "<div>\n",
       "<style scoped>\n",
       "    .dataframe tbody tr th:only-of-type {\n",
       "        vertical-align: middle;\n",
       "    }\n",
       "\n",
       "    .dataframe tbody tr th {\n",
       "        vertical-align: top;\n",
       "    }\n",
       "\n",
       "    .dataframe thead th {\n",
       "        text-align: right;\n",
       "    }\n",
       "</style>\n",
       "<table border=\"1\" class=\"dataframe\">\n",
       "  <thead>\n",
       "    <tr style=\"text-align: right;\">\n",
       "      <th></th>\n",
       "      <th></th>\n",
       "      <th></th>\n",
       "    </tr>\n",
       "    <tr>\n",
       "      <th>Name</th>\n",
       "      <th>Email</th>\n",
       "      <th>IBAN</th>\n",
       "    </tr>\n",
       "  </thead>\n",
       "  <tbody>\n",
       "    <tr>\n",
       "      <th rowspan=\"2\" valign=\"top\">Danny</th>\n",
       "      <th rowspan=\"2\" valign=\"top\">danny@gmail.com</th>\n",
       "      <th>NLAMRO123456789</th>\n",
       "    </tr>\n",
       "    <tr>\n",
       "      <th>NLRABO123456712</th>\n",
       "    </tr>\n",
       "  </tbody>\n",
       "</table>\n",
       "</div>"
      ],
      "text/plain": [
       "Empty DataFrame\n",
       "Columns: []\n",
       "Index: [(Danny, danny@gmail.com, NLAMRO123456789), (Danny, danny@gmail.com, NLRABO123456712)]"
      ]
     },
     "execution_count": 12,
     "metadata": {},
     "output_type": "execute_result"
    }
   ],
   "source": [
    "#applying pivot table\n",
    "piv_tab = pd.pivot_table(df_gb, index=['Name',\"Email\", \"IBAN\"])\n",
    "piv_tab"
   ]
  }
 ],
 "metadata": {
  "kernelspec": {
   "display_name": "Python 3 (ipykernel)",
   "language": "python",
   "name": "python3"
  },
  "language_info": {
   "codemirror_mode": {
    "name": "ipython",
    "version": 3
   },
   "file_extension": ".py",
   "mimetype": "text/x-python",
   "name": "python",
   "nbconvert_exporter": "python",
   "pygments_lexer": "ipython3",
   "version": "3.9.12"
  }
 },
 "nbformat": 4,
 "nbformat_minor": 5
}
